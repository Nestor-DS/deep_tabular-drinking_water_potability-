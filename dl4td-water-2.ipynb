{
 "cells": [
  {
   "cell_type": "markdown",
   "metadata": {},
   "source": [
    "# *Modern Deep Learning for Tabular Data using \"drinking_water_potability.csv\"*, Chapter 2\n",
    "\n",
    "**Classical Machine Learning Principles and Methods**\n",
    "\n",
    "---------------\n",
    "\n",
    "This notebook contains the complementary code discussed in Chapter 2 of *Modern Deep Learning for Tabular Data*.\n",
    "\n",
    "External Kaggle links to datasets used in this notebook:\n",
    "- [Drinking_water_potability Dataset](https://www.kaggle.com/washingtongold/amazon-us-software-reviews)\n",
    "\n",
    "You can download these datasets from Kaggle, or import these notebooks into Kaggle and connect them internally.\n",
    "\n",
    "--------------------"
   ]
  },
  {
   "cell_type": "markdown",
   "metadata": {},
   "source": [
    "# **1. Environment configuration**"
   ]
  },
  {
   "cell_type": "code",
   "execution_count": 3,
   "metadata": {},
   "outputs": [],
   "source": [
    "# data management\n",
    "import numpy as np                   # for linear algebra\n",
    "import pandas as pd                  # for tabular data manipulation and processing\n",
    "import category_encoders             # for categorical encoding\n",
    "from skimage import io               # for input/output processing\n",
    "\n",
    "# machine learning\n",
    "import sklearn                       # for data prep and classical ML\n",
    "import tensorflow as tf              # for deep learning\n",
    "from tensorflow import keras         # for deep learning\n",
    "\n",
    "# data visualization and graphics\n",
    "import matplotlib.pyplot as plt      # for visualization fundamentals\n",
    "import seaborn as sns                # for pretty visualizations\n",
    "sns.set_palette(\"magma\")\n",
    "import cv2                           # for image manipulation\n",
    "\n",
    "# misc\n",
    "from tqdm.notebook import tqdm       # for progress bars\n",
    "import math                          # for calculation\n",
    "import sys                           # for system manipulation\n",
    "import os                            # for file manipulation"
   ]
  },
  {
   "cell_type": "markdown",
   "metadata": {},
   "source": [
    "## Data Storage and Manipulation"
   ]
  },
  {
   "cell_type": "markdown",
   "metadata": {},
   "source": [
    "### TensorFlow Datasets"
   ]
  }
 ],
 "metadata": {
  "kernelspec": {
   "display_name": "deep_learning",
   "language": "python",
   "name": "python3"
  },
  "language_info": {
   "codemirror_mode": {
    "name": "ipython",
    "version": 3
   },
   "file_extension": ".py",
   "mimetype": "text/x-python",
   "name": "python",
   "nbconvert_exporter": "python",
   "pygments_lexer": "ipython3",
   "version": "3.10.13"
  }
 },
 "nbformat": 4,
 "nbformat_minor": 2
}
