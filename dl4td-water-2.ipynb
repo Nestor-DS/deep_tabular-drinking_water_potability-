{
 "cells": [
  {
   "cell_type": "markdown",
   "metadata": {},
   "source": [
    "# *Modern Deep Learning for Tabular Data using \"drinking_water_potability.csv\"*, Chapter 2\n",
    "\n",
    "**Classical Machine Learning Principles and Methods**\n",
    "\n",
    "---------------\n",
    "\n",
    "This notebook contains the complementary code discussed in Chapter 2 of *Modern Deep Learning for Tabular Data*.\n",
    "\n",
    "External Kaggle links to datasets used in this notebook:\n",
    "- [Drinking_water_potability Dataset](https://www.kaggle.com/washingtongold/amazon-us-software-reviews)\n",
    "\n",
    "You can download these datasets from Kaggle, or import these notebooks into Kaggle and connect them internally.\n",
    "\n",
    "--------------------"
   ]
  },
  {
   "cell_type": "markdown",
   "metadata": {},
   "source": [
    "# **1. Environment configuration**\n",
    "---------"
   ]
  },
  {
   "cell_type": "code",
   "execution_count": 3,
   "metadata": {},
   "outputs": [],
   "source": [
    "# data management\n",
    "import numpy as np                   # for linear algebra\n",
    "import pandas as pd                  # for tabular data manipulation and processing\n",
    "import category_encoders             # for categorical encoding\n",
    "from skimage import io               # for input/output processing\n",
    "\n",
    "# machine learning\n",
    "import sklearn                       # for data prep and classical ML\n",
    "import tensorflow as tf              # for deep learning\n",
    "from tensorflow import keras         # for deep learning\n",
    "\n",
    "# data visualization and graphics\n",
    "import matplotlib.pyplot as plt      # for visualization fundamentals\n",
    "import seaborn as sns                # for pretty visualizations\n",
    "sns.set_palette(\"magma\")\n",
    "import cv2                           # for image manipulation\n",
    "\n",
    "# misc\n",
    "from tqdm.notebook import tqdm       # for progress bars\n",
    "import math                          # for calculation\n",
    "import sys                           # for system manipulation\n",
    "import os                            # for file manipulation"
   ]
  },
  {
   "cell_type": "code",
   "execution_count": 5,
   "metadata": {},
   "outputs": [],
   "source": [
    "pd.set_option('display.max_columns', None)\n",
    "global df"
   ]
  },
  {
   "cell_type": "markdown",
   "metadata": {},
   "source": [
    "# **2. Data processing**\n",
    "----------"
   ]
  },
  {
   "cell_type": "code",
   "execution_count": 15,
   "metadata": {},
   "outputs": [],
   "source": [
    "df = pd.read_csv(\"drinking_water_potability.csv\")"
   ]
  },
  {
   "cell_type": "markdown",
   "metadata": {},
   "source": [
    "## Data Storage and Manipulation\n",
    "-----"
   ]
  },
  {
   "cell_type": "markdown",
   "metadata": {},
   "source": [
    "### Data \n",
    "----"
   ]
  },
  {
   "cell_type": "markdown",
   "metadata": {},
   "source": [
    "#### Discrete data\n",
    "------"
   ]
  },
  {
   "cell_type": "code",
   "execution_count": 16,
   "metadata": {},
   "outputs": [
    {
     "data": {
      "text/plain": [
       "(3276, 10)"
      ]
     },
     "execution_count": 16,
     "metadata": {},
     "output_type": "execute_result"
    }
   ],
   "source": [
    "df.shape"
   ]
  },
  {
   "cell_type": "code",
   "execution_count": 19,
   "metadata": {},
   "outputs": [
    {
     "data": {
      "text/plain": [
       "(3276, 10)"
      ]
     },
     "execution_count": 19,
     "metadata": {},
     "output_type": "execute_result"
    }
   ],
   "source": [
    "df = df.dropna(axis=1, how='any')\n",
    "df.shape"
   ]
  },
  {
   "cell_type": "markdown",
   "metadata": {},
   "source": [
    "#### Label Encoding\n",
    "---------"
   ]
  },
  {
   "cell_type": "markdown",
   "metadata": {},
   "source": [
    "El código realiza codificación de etiquetas, una técnica para convertir variables categóricas en representaciones numéricas para modelos de aprendizaje automático."
   ]
  },
  {
   "cell_type": "code",
   "execution_count": 20,
   "metadata": {},
   "outputs": [],
   "source": [
    "# Función para codificar etiquetas utilizando el método de Label Encoding\n",
    "def label_encoding(arr):\n",
    "    # Encuentra los valores únicos en el arreglo\n",
    "    unique = np.unique(arr)\n",
    "    \n",
    "    # Crea un mapeo de valores únicos a índices\n",
    "    mapping = {elem: index for index, elem in enumerate(unique)}\n",
    "    \n",
    "    # Codifica el arreglo original utilizando el mapeo\n",
    "    return np.array([mapping[elem] for elem in arr])\n"
   ]
  },
  {
   "cell_type": "code",
   "execution_count": null,
   "metadata": {},
   "outputs": [],
   "source": [
    "'''\n",
    "    Ejemplo de uso con la columna 'LotShape' de un DataFrame ('df')\n",
    "    \n",
    "    lot_shape = np.array(df['LotShape'])\n",
    "    encoded = label_encoding(lot_shape)\n",
    "    \n",
    "    print(f'Original Array: {lot_shape}')\n",
    "    print(f'Encoded Array:  {encoded}')\n",
    "'''"
   ]
  },
  {
   "cell_type": "markdown",
   "metadata": {},
   "source": [
    "Este código utiliza la clase LabelEncoder de scikit-learn para realizar la codificación de etiquetas de manera más conveniente. "
   ]
  },
  {
   "cell_type": "code",
   "execution_count": null,
   "metadata": {},
   "outputs": [],
   "source": [
    "'''\n",
    "    # Importa la clase LabelEncoder de scikit-learn\n",
    "    from sklearn.preprocessing import LabelEncoder\n",
    "\n",
    "    # Crea una instancia de LabelEncoder\n",
    "    encoder = LabelEncoder()\n",
    "\n",
    "    # Aplica la codificación a la columna 'LotShape' de un DataFrame ('df')\n",
    "    encoded = encoder.fit_transform(df['LotShape'])\n",
    "\n",
    "    # Imprime los resultados\n",
    "    print(f'Original Array: {lot_shape}')\n",
    "    print(f'Encoded Array:  {encoded}')\n",
    "'''"
   ]
  },
  {
   "cell_type": "markdown",
   "metadata": {},
   "source": [
    "#### One-Hot Encoding\n",
    "-----------"
   ]
  },
  {
   "cell_type": "code",
   "execution_count": null,
   "metadata": {},
   "outputs": [],
   "source": [
    "'''\n",
    "# Función para realizar one-hot encoding basado en una función de label encoding\n",
    "def one_hot_encoding(arr):\n",
    "    # Realiza label encoding para obtener valores numéricos únicos\n",
    "    labels = label_encoding(arr)\n",
    "    \n",
    "    # Inicializa una matriz de ceros con el tamaño necesario\n",
    "    encoded = np.zeros((len(arr), len(np.unique(arr))))\n",
    "    \n",
    "    # Asigna 1 a las posiciones correspondientes en la matriz\n",
    "    for i in range(len(arr)):\n",
    "        encoded[i][labels[i]] = 1\n",
    "    \n",
    "    return encoded\n",
    "\n",
    "# Ejemplo de uso con la columna 'LotShape' de un DataFrame ('df')\n",
    "lot_shape = np.array(df['LotShape'])\n",
    "encoded = one_hot_encoding(lot_shape)\n",
    "\n",
    "# Imprime los resultados\n",
    "print(f'Original Array: {lot_shape}')\n",
    "print(f'Encoded Array: \\n{encoded}')\n",
    "'''"
   ]
  },
  {
   "cell_type": "markdown",
   "metadata": {},
   "source": [
    "### TensorFlow Datasets"
   ]
  }
 ],
 "metadata": {
  "kernelspec": {
   "display_name": "deep_learning",
   "language": "python",
   "name": "python3"
  },
  "language_info": {
   "codemirror_mode": {
    "name": "ipython",
    "version": 3
   },
   "file_extension": ".py",
   "mimetype": "text/x-python",
   "name": "python",
   "nbconvert_exporter": "python",
   "pygments_lexer": "ipython3",
   "version": "3.10.13"
  }
 },
 "nbformat": 4,
 "nbformat_minor": 2
}
