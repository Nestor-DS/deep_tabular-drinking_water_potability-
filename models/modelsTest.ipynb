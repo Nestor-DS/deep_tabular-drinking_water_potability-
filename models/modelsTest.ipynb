{
 "cells": [
  {
   "cell_type": "code",
   "execution_count": 6,
   "metadata": {},
   "outputs": [],
   "source": [
    "import pandas as pd\n",
    "import numpy as np\n",
    "import matplotlib.pyplot as plt"
   ]
  },
  {
   "cell_type": "code",
   "execution_count": 12,
   "metadata": {},
   "outputs": [
    {
     "data": {
      "text/plain": [
       "Index(['ph', 'Hardness', 'Solids', 'Chloramines', 'Sulfate', 'Conductivity',\n",
       "       'Organic_carbon', 'Trihalomethanes', 'Turbidity', 'Potability'],\n",
       "      dtype='object')"
      ]
     },
     "execution_count": 12,
     "metadata": {},
     "output_type": "execute_result"
    }
   ],
   "source": [
    "df = pd.read_csv('../drinking_water_potability.csv')\n",
    "df.columns"
   ]
  },
  {
   "cell_type": "code",
   "execution_count": 17,
   "metadata": {},
   "outputs": [
    {
     "data": {
      "image/png": "[encoded data removed]",
      "text/plain": [
       "<Figure size 640x480 with 1 Axes>"
      ]
     },
     "metadata": {},
     "output_type": "display_data"
    },
    {
     "name": "stdout",
     "output_type": "stream",
     "text": [
      "Potability\n",
      "0    1998\n",
      "1    1278\n",
      "Name: count, dtype: int64\n"
     ]
    }
   ],
   "source": [
    "df['Potability'].value_counts().plot(kind='bar')\n",
    "plt.xlabel('Potability')\n",
    "plt.ylabel('Count')\n",
    "plt.title('Potability Value Counts')\n",
    "plt.show()\n",
    "print(df['Potability'].value_counts())"
   ]
  },
  {
   "cell_type": "markdown",
   "metadata": {},
   "source": [
    "## **Balanceo de clases**"
   ]
  },
  {
   "cell_type": "code",
   "execution_count": 18,
   "metadata": {},
   "outputs": [],
   "source": [
    "from sklearn.utils import resample\n",
    "\n",
    "df_majority = df[df.Potability==0]\n",
    "df_minority = df[df.Potability==1]\n",
    "\n",
    "df_majority_downsampled = resample(df_majority, replace=False, n_samples=len(df_minority), random_state=42)\n",
    "\n",
    "df_balanced = pd.concat([df_majority_downsampled, df_minority])"
   ]
  },
  {
   "cell_type": "code",
   "execution_count": 20,
   "metadata": {},
   "outputs": [
    {
     "data": {
      "text/html": [
       "<div>\n",
       "<style scoped>\n",
       "    .dataframe tbody tr th:only-of-type {\n",
       "        vertical-align: middle;\n",
       "    }\n",
       "\n",
       "    .dataframe tbody tr th {\n",
       "        vertical-align: top;\n",
       "    }\n",
       "\n",
       "    .dataframe thead th {\n",
       "        text-align: right;\n",
       "    }\n",
       "</style>\n",
       "<table border=\"1\" class=\"dataframe\">\n",
       "  <thead>\n",
       "    <tr style=\"text-align: right;\">\n",
       "      <th></th>\n",
       "      <th>ph</th>\n",
       "      <th>Hardness</th>\n",
       "      <th>Solids</th>\n",
       "      <th>Chloramines</th>\n",
       "      <th>Sulfate</th>\n",
       "      <th>Conductivity</th>\n",
       "      <th>Organic_carbon</th>\n",
       "      <th>Trihalomethanes</th>\n",
       "      <th>Turbidity</th>\n",
       "      <th>Potability</th>\n",
       "    </tr>\n",
       "  </thead>\n",
       "  <tbody>\n",
       "    <tr>\n",
       "      <th>416</th>\n",
       "      <td>6.262799</td>\n",
       "      <td>206.889748</td>\n",
       "      <td>31414.525810</td>\n",
       "      <td>4.528076</td>\n",
       "      <td>349.734662</td>\n",
       "      <td>567.027274</td>\n",
       "      <td>15.963540</td>\n",
       "      <td>73.022605</td>\n",
       "      <td>4.012518</td>\n",
       "      <td>0</td>\n",
       "    </tr>\n",
       "    <tr>\n",
       "      <th>512</th>\n",
       "      <td>7.803833</td>\n",
       "      <td>223.688111</td>\n",
       "      <td>37376.792990</td>\n",
       "      <td>6.664969</td>\n",
       "      <td>333.775777</td>\n",
       "      <td>343.764013</td>\n",
       "      <td>16.697408</td>\n",
       "      <td>74.782434</td>\n",
       "      <td>2.907387</td>\n",
       "      <td>0</td>\n",
       "    </tr>\n",
       "    <tr>\n",
       "      <th>458</th>\n",
       "      <td>8.692115</td>\n",
       "      <td>144.236358</td>\n",
       "      <td>2552.962804</td>\n",
       "      <td>9.202634</td>\n",
       "      <td>347.975137</td>\n",
       "      <td>517.427471</td>\n",
       "      <td>13.963421</td>\n",
       "      <td>42.388661</td>\n",
       "      <td>2.283475</td>\n",
       "      <td>0</td>\n",
       "    </tr>\n",
       "    <tr>\n",
       "      <th>901</th>\n",
       "      <td>7.344976</td>\n",
       "      <td>182.306942</td>\n",
       "      <td>5689.804405</td>\n",
       "      <td>6.764350</td>\n",
       "      <td>373.872785</td>\n",
       "      <td>360.184473</td>\n",
       "      <td>20.483902</td>\n",
       "      <td>73.488981</td>\n",
       "      <td>3.418763</td>\n",
       "      <td>0</td>\n",
       "    </tr>\n",
       "    <tr>\n",
       "      <th>2087</th>\n",
       "      <td>6.527441</td>\n",
       "      <td>181.072995</td>\n",
       "      <td>22444.081780</td>\n",
       "      <td>10.474977</td>\n",
       "      <td>271.862792</td>\n",
       "      <td>351.063788</td>\n",
       "      <td>11.996365</td>\n",
       "      <td>66.396293</td>\n",
       "      <td>3.567181</td>\n",
       "      <td>0</td>\n",
       "    </tr>\n",
       "  </tbody>\n",
       "</table>\n",
       "</div>"
      ],
      "text/plain": [
       "            ph    Hardness        Solids  Chloramines     Sulfate  \\\n",
       "416   6.262799  206.889748  31414.525810     4.528076  349.734662   \n",
       "512   7.803833  223.688111  37376.792990     6.664969  333.775777   \n",
       "458   8.692115  144.236358   2552.962804     9.202634  347.975137   \n",
       "901   7.344976  182.306942   5689.804405     6.764350  373.872785   \n",
       "2087  6.527441  181.072995  22444.081780    10.474977  271.862792   \n",
       "\n",
       "      Conductivity  Organic_carbon  Trihalomethanes  Turbidity  Potability  \n",
       "416     567.027274       15.963540        73.022605   4.012518           0  \n",
       "512     343.764013       16.697408        74.782434   2.907387           0  \n",
       "458     517.427471       13.963421        42.388661   2.283475           0  \n",
       "901     360.184473       20.483902        73.488981   3.418763           0  \n",
       "2087    351.063788       11.996365        66.396293   3.567181           0  "
      ]
     },
     "execution_count": 20,
     "metadata": {},
     "output_type": "execute_result"
    }
   ],
   "source": [
    "df_balanced['Potability'].value_counts().plot(kind='bar')"
   ]
  },
  {
   "cell_type": "markdown",
   "metadata": {},
   "source": [
    "## **Predictorias y targets**"
   ]
  },
  {
   "cell_type": "code",
   "execution_count": 21,
   "metadata": {},
   "outputs": [],
   "source": [
    "X = df_balanced.drop('Potability', axis=1)\n",
    "y = df_balanced['Potability']"
   ]
  },
  {
   "cell_type": "markdown",
   "metadata": {},
   "source": [
    "## **Perparación de datos**"
   ]
  },
  {
   "cell_type": "code",
   "execution_count": null,
   "metadata": {},
   "outputs": [],
   "source": [
    "from sklearn.preprocessing import OneHotEncoder\n",
    "\n",
    "object_columns = X.select_dtypes(include=['object']).columns\n",
    "\n",
    "enc = OneHotEncoder(sparse=False, drop='first')\n",
    "\n",
    "X_encoded = pd.DataFrame(enc.fit_transform(X[object_columns]))\n",
    "X_encoded.columns = enc.get_feature_names(object_columns)\n",
    "\n",
    "X = X.drop(object_columns, axis=1).reset_index(drop=True)"
   ]
  },
  {
   "cell_type": "code",
   "execution_count": null,
   "metadata": {},
   "outputs": [],
   "source": [
    "X = pd.concat([X, X_encoded], axis=1)\n",
    "X.dropna(columns = ['index'], inplace = True)"
   ]
  },
  {
   "cell_type": "code",
   "execution_count": null,
   "metadata": {},
   "outputs": [],
   "source": [
    "X"
   ]
  },
  {
   "cell_type": "code",
   "execution_count": 24,
   "metadata": {},
   "outputs": [],
   "source": [
    "from sklearn.preprocessing import MinMaxScaler\n",
    "\n",
    "scaler = MinMaxScaler()\n",
    "columns = X.columns\n",
    "X_scaled = scaler.fit_transform(X)\n",
    "X_scaled = pd.DataFrame(X_scaled, columns=columns)"
   ]
  },
  {
   "cell_type": "code",
   "execution_count": 25,
   "metadata": {},
   "outputs": [
    {
     "data": {
      "text/html": [
       "<div>\n",
       "<style scoped>\n",
       "    .dataframe tbody tr th:only-of-type {\n",
       "        vertical-align: middle;\n",
       "    }\n",
       "\n",
       "    .dataframe tbody tr th {\n",
       "        vertical-align: top;\n",
       "    }\n",
       "\n",
       "    .dataframe thead th {\n",
       "        text-align: right;\n",
       "    }\n",
       "</style>\n",
       "<table border=\"1\" class=\"dataframe\">\n",
       "  <thead>\n",
       "    <tr style=\"text-align: right;\">\n",
       "      <th></th>\n",
       "      <th>ph</th>\n",
       "      <th>Hardness</th>\n",
       "      <th>Solids</th>\n",
       "      <th>Chloramines</th>\n",
       "      <th>Sulfate</th>\n",
       "      <th>Conductivity</th>\n",
       "      <th>Organic_carbon</th>\n",
       "      <th>Trihalomethanes</th>\n",
       "      <th>Turbidity</th>\n",
       "    </tr>\n",
       "  </thead>\n",
       "  <tbody>\n",
       "    <tr>\n",
       "      <th>0</th>\n",
       "      <td>0.453314</td>\n",
       "      <td>0.578391</td>\n",
       "      <td>0.510515</td>\n",
       "      <td>0.326894</td>\n",
       "      <td>0.627033</td>\n",
       "      <td>0.731939</td>\n",
       "      <td>0.554831</td>\n",
       "      <td>0.559872</td>\n",
       "      <td>0.480353</td>\n",
       "    </tr>\n",
       "    <tr>\n",
       "      <th>1</th>\n",
       "      <td>0.569061</td>\n",
       "      <td>0.639323</td>\n",
       "      <td>0.608408</td>\n",
       "      <td>0.494166</td>\n",
       "      <td>0.581699</td>\n",
       "      <td>0.308083</td>\n",
       "      <td>0.584415</td>\n",
       "      <td>0.575066</td>\n",
       "      <td>0.269723</td>\n",
       "    </tr>\n",
       "    <tr>\n",
       "      <th>2</th>\n",
       "      <td>0.635780</td>\n",
       "      <td>0.351132</td>\n",
       "      <td>0.036647</td>\n",
       "      <td>0.692809</td>\n",
       "      <td>0.622034</td>\n",
       "      <td>0.637776</td>\n",
       "      <td>0.474203</td>\n",
       "      <td>0.295386</td>\n",
       "      <td>0.150810</td>\n",
       "    </tr>\n",
       "    <tr>\n",
       "      <th>3</th>\n",
       "      <td>0.534596</td>\n",
       "      <td>0.489223</td>\n",
       "      <td>0.088150</td>\n",
       "      <td>0.501945</td>\n",
       "      <td>0.695601</td>\n",
       "      <td>0.339256</td>\n",
       "      <td>0.737055</td>\n",
       "      <td>0.563899</td>\n",
       "      <td>0.367187</td>\n",
       "    </tr>\n",
       "    <tr>\n",
       "      <th>4</th>\n",
       "      <td>0.473191</td>\n",
       "      <td>0.484747</td>\n",
       "      <td>0.363233</td>\n",
       "      <td>0.792405</td>\n",
       "      <td>0.405825</td>\n",
       "      <td>0.321941</td>\n",
       "      <td>0.394908</td>\n",
       "      <td>0.502662</td>\n",
       "      <td>0.395475</td>\n",
       "    </tr>\n",
       "    <tr>\n",
       "      <th>...</th>\n",
       "      <td>...</td>\n",
       "      <td>...</td>\n",
       "      <td>...</td>\n",
       "      <td>...</td>\n",
       "      <td>...</td>\n",
       "      <td>...</td>\n",
       "      <td>...</td>\n",
       "      <td>...</td>\n",
       "      <td>...</td>\n",
       "    </tr>\n",
       "    <tr>\n",
       "      <th>2551</th>\n",
       "      <td>0.333535</td>\n",
       "      <td>0.530482</td>\n",
       "      <td>0.775947</td>\n",
       "      <td>0.533436</td>\n",
       "      <td>0.656047</td>\n",
       "      <td>0.654856</td>\n",
       "      <td>0.471422</td>\n",
       "      <td>0.505178</td>\n",
       "      <td>0.561031</td>\n",
       "    </tr>\n",
       "    <tr>\n",
       "      <th>2552</th>\n",
       "      <td>0.569439</td>\n",
       "      <td>0.530016</td>\n",
       "      <td>0.279263</td>\n",
       "      <td>0.603473</td>\n",
       "      <td>0.581699</td>\n",
       "      <td>0.400510</td>\n",
       "      <td>0.713647</td>\n",
       "      <td>0.502662</td>\n",
       "      <td>0.248921</td>\n",
       "    </tr>\n",
       "    <tr>\n",
       "      <th>2553</th>\n",
       "      <td>0.690415</td>\n",
       "      <td>0.465486</td>\n",
       "      <td>0.539101</td>\n",
       "      <td>0.547807</td>\n",
       "      <td>0.581699</td>\n",
       "      <td>0.475680</td>\n",
       "      <td>0.356318</td>\n",
       "      <td>0.532441</td>\n",
       "      <td>0.344338</td>\n",
       "    </tr>\n",
       "    <tr>\n",
       "      <th>2554</th>\n",
       "      <td>0.367986</td>\n",
       "      <td>0.664407</td>\n",
       "      <td>0.191490</td>\n",
       "      <td>0.465860</td>\n",
       "      <td>0.581699</td>\n",
       "      <td>0.420318</td>\n",
       "      <td>0.361553</td>\n",
       "      <td>0.598427</td>\n",
       "      <td>0.613032</td>\n",
       "    </tr>\n",
       "    <tr>\n",
       "      <th>2555</th>\n",
       "      <td>0.574382</td>\n",
       "      <td>0.535635</td>\n",
       "      <td>0.280484</td>\n",
       "      <td>0.560259</td>\n",
       "      <td>0.581699</td>\n",
       "      <td>0.277130</td>\n",
       "      <td>0.561960</td>\n",
       "      <td>0.608876</td>\n",
       "      <td>0.155703</td>\n",
       "    </tr>\n",
       "  </tbody>\n",
       "</table>\n",
       "<p>2556 rows × 9 columns</p>\n",
       "</div>"
      ],
      "text/plain": [
       "            ph  Hardness    Solids  Chloramines   Sulfate  Conductivity  \\\n",
       "0     0.453314  0.578391  0.510515     0.326894  0.627033      0.731939   \n",
       "1     0.569061  0.639323  0.608408     0.494166  0.581699      0.308083   \n",
       "2     0.635780  0.351132  0.036647     0.692809  0.622034      0.637776   \n",
       "3     0.534596  0.489223  0.088150     0.501945  0.695601      0.339256   \n",
       "4     0.473191  0.484747  0.363233     0.792405  0.405825      0.321941   \n",
       "...        ...       ...       ...          ...       ...           ...   \n",
       "2551  0.333535  0.530482  0.775947     0.533436  0.656047      0.654856   \n",
       "2552  0.569439  0.530016  0.279263     0.603473  0.581699      0.400510   \n",
       "2553  0.690415  0.465486  0.539101     0.547807  0.581699      0.475680   \n",
       "2554  0.367986  0.664407  0.191490     0.465860  0.581699      0.420318   \n",
       "2555  0.574382  0.535635  0.280484     0.560259  0.581699      0.277130   \n",
       "\n",
       "      Organic_carbon  Trihalomethanes  Turbidity  \n",
       "0           0.554831         0.559872   0.480353  \n",
       "1           0.584415         0.575066   0.269723  \n",
       "2           0.474203         0.295386   0.150810  \n",
       "3           0.737055         0.563899   0.367187  \n",
       "4           0.394908         0.502662   0.395475  \n",
       "...              ...              ...        ...  \n",
       "2551        0.471422         0.505178   0.561031  \n",
       "2552        0.713647         0.502662   0.248921  \n",
       "2553        0.356318         0.532441   0.344338  \n",
       "2554        0.361553         0.598427   0.613032  \n",
       "2555        0.561960         0.608876   0.155703  \n",
       "\n",
       "[2556 rows x 9 columns]"
      ]
     },
     "execution_count": 25,
     "metadata": {},
     "output_type": "execute_result"
    }
   ],
   "source": [
    "X_scaled"
   ]
  },
  {
   "cell_type": "markdown",
   "metadata": {},
   "source": [
    "## **Separación de train y test**"
   ]
  },
  {
   "cell_type": "code",
   "execution_count": 26,
   "metadata": {},
   "outputs": [],
   "source": [
    "from sklearn.model_selection import train_test_split\n",
    "\n",
    "X_train, X_test, y_train, y_test = train_test_split(X_scaled, y, test_size=0.2, random_state=42)"
   ]
  },
  {
   "cell_type": "markdown",
   "metadata": {},
   "source": [
    "## **Función para medir el error**"
   ]
  },
  {
   "cell_type": "code",
   "execution_count": 27,
   "metadata": {},
   "outputs": [],
   "source": [
    "from sklearn.metrics import roc_auc_score\n",
    "\n",
    "def mide_error(model_name, y_pred):\n",
    "    auc = roc_auc_score(y_test, y_pred)\n",
    "    print(f'{model_name} AUC: {auc:.4f}')"
   ]
  },
  {
   "cell_type": "markdown",
   "metadata": {},
   "source": [
    "# **3. Dataset para series temporales**"
   ]
  },
  {
   "cell_type": "markdown",
   "metadata": {},
   "source": [
    "## **3.1 Carga de ficheros**"
   ]
  },
  {
   "cell_type": "code",
   "execution_count": null,
   "metadata": {},
   "outputs": [],
   "source": [
    "import statsmodels.api as sm\n",
    "\n",
    "df_st = sm.datasets.macrodata.load_pandas().data.loc[:, ['year', 'quarter','infl']]\n",
    "df_st['period'] = pd.PeriodIndex(year=df_st.year, quarter=df_st.quarter, freq='Q')\n",
    "df_st.set_index('period', inplace=True)\n",
    "df_st.drop(['year', 'quarter'], axis=1, inplace=True)\n",
    "df_st.head()"
   ]
  },
  {
   "cell_type": "markdown",
   "metadata": {},
   "source": [
    "## **3.2 Separación de train y test**"
   ]
  },
  {
   "cell_type": "code",
   "execution_count": null,
   "metadata": {},
   "outputs": [],
   "source": [
    "train_data = df_st.iloc[:len(X_train)]\n",
    "test_data = df_st.iloc[len(X_train):]\n",
    "train_data = train_data['infl'].values.astype(np.float64)"
   ]
  },
  {
   "cell_type": "markdown",
   "metadata": {},
   "source": [
    "# **4 Regresión logistica**\n",
    "------\n"
   ]
  },
  {
   "cell_type": "code",
   "execution_count": 51,
   "metadata": {},
   "outputs": [
    {
     "name": "stdout",
     "output_type": "stream",
     "text": [
      "Logistic Regression AUC: 0.5231\n"
     ]
    }
   ],
   "source": [
    "from sklearn.linear_model import LogisticRegression\n",
    "\n",
    "logreg = LogisticRegression(solver='saga', max_iter=1000, random_state=42)\n",
    "logreg.fit(X_train, y_train)\n",
    "\n",
    "y_pred = logreg.predict_proba(X_test)[:, 1]\n",
    "\n",
    "mide_error('Logistic Regression', y_pred)"
   ]
  },
  {
   "cell_type": "markdown",
   "metadata": {},
   "source": [
    "# **5 KNN**"
   ]
  },
  {
   "cell_type": "code",
   "execution_count": 59,
   "metadata": {},
   "outputs": [
    {
     "name": "stdout",
     "output_type": "stream",
     "text": [
      "KNN AUC: 0.3407\n"
     ]
    }
   ],
   "source": [
    "from sklearn.neighbors import KNeighborsClassifier\n",
    "\n",
    "knn = KNeighborsClassifier(n_neighbors=16)\n",
    "knn.fit(X_train, y_train)\n",
    "\n",
    "y_pred = knn.predict_proba(X_test)[:, 1]\n",
    "\n",
    "mide_error('KNN', y_pred)\n"
   ]
  },
  {
   "cell_type": "markdown",
   "metadata": {},
   "source": [
    "# **6 Naive bayes**"
   ]
  },
  {
   "cell_type": "code",
   "execution_count": 70,
   "metadata": {},
   "outputs": [
    {
     "name": "stdout",
     "output_type": "stream",
     "text": [
      "Naive Bayes Gaussian AUC: 0.5948\n",
      "Naive Bayes Bernoulli AUC: 0.5019\n",
      "Naive Bayes Multinomial AUC: 0.5142\n"
     ]
    }
   ],
   "source": [
    "from sklearn.naive_bayes import BernoulliNB, GaussianNB, MultinomialNB\n",
    "\n",
    "nb_G = GaussianNB()\n",
    "nb_G.fit(X_train, y_train)\n",
    "\n",
    "nb_B = BernoulliNB()\n",
    "nb_B.fit(X_train, y_train)\n",
    "\n",
    "nb_M = MultinomialNB()\n",
    "nb_M.fit(X_train, y_train)\n",
    "\n",
    "y_pred_G = nb_G.predict_proba(X_test)[:, 1]\n",
    "y_pred_B = nb_B.predict_proba(X_test)[:, 1]\n",
    "y_pred_M = nb_M.predict_proba(X_test)[:, 1]\n",
    "\n",
    "mide_error('Naive Bayes Gaussian', y_pred_G)\n",
    "mide_error('Naive Bayes Bernoulli', y_pred_B)\n",
    "mide_error('Naive Bayes Multinomial', y_pred_M)"
   ]
  },
  {
   "cell_type": "markdown",
   "metadata": {},
   "source": [
    "# **7 K-Medias**"
   ]
  },
  {
   "cell_type": "code",
   "execution_count": 135,
   "metadata": {},
   "outputs": [
    {
     "name": "stderr",
     "output_type": "stream",
     "text": [
      "c:\\Users\\nesto\\anaconda3\\envs\\deep_learning\\lib\\site-packages\\sklearn\\cluster\\_kmeans.py:1416: FutureWarning: algorithm='auto' is deprecated, it will be removed in 1.3. Using 'lloyd' instead.\n",
      "  warnings.warn(\n"
     ]
    },
    {
     "name": "stdout",
     "output_type": "stream",
     "text": [
      "KMeans AUC: 0.5228\n"
     ]
    }
   ],
   "source": [
    "from sklearn.cluster import KMeans\n",
    "\n",
    "kmeans = KMeans(n_clusters=16, random_state=42, n_init=10, max_iter=300, tol=0.0001, algorithm='auto')\n",
    "\n",
    "kmeans.fit(X_train)\n",
    "\n",
    "y_pred = kmeans.predict(X_test)\n",
    "\n",
    "\n",
    "mide_error('KMeans', y_pred)\n",
    "# kmeans.labels_[:10] # first 10 cluster labels of the training set (cuando no hay variable ojetivo)"
   ]
  },
  {
   "cell_type": "markdown",
   "metadata": {},
   "source": [
    "# **8 Árbol de desiciones**"
   ]
  },
  {
   "cell_type": "code",
   "execution_count": 133,
   "metadata": {},
   "outputs": [
    {
     "name": "stdout",
     "output_type": "stream",
     "text": [
      "Decision Tree AUC: 0.6156\n"
     ]
    }
   ],
   "source": [
    "from sklearn.tree import DecisionTreeClassifier\n",
    "\n",
    "tree = DecisionTreeClassifier(max_depth=8, random_state=42)\n",
    "tree.fit(X_train, y_train)\n",
    "\n",
    "y_pred = tree.predict_proba(X_test)[:, 1]\n",
    "\n",
    "mide_error('Decision Tree', y_pred)"
   ]
  },
  {
   "cell_type": "markdown",
   "metadata": {},
   "source": [
    "# **9 Arima** \n",
    "---------\n",
    "(Cuando los datos son son estacionales)"
   ]
  },
  {
   "cell_type": "code",
   "execution_count": null,
   "metadata": {},
   "outputs": [],
   "source": [
    "from pmarima import auto_arima\n",
    "\n",
    "model = auto_arima(train_data, \n",
    "                   seasonal=True, \n",
    "                   m=4, \n",
    "                   max_p=3, \n",
    "                   max_q=3, \n",
    "                   max_P=3, \n",
    "                   max_Q=3, \n",
    "                   max_order=None, \n",
    "                   max_d=2, \n",
    "                   max_D=1, \n",
    "                   maxiter=50, \n",
    "                   alpha=0.05, \n",
    "                   n_jobs=-1, \n",
    "                   trend='ct', \n",
    "                   information_criterion='aic', \n",
    "                   out_of_sample_size=0, \n",
    "                   scoring='mse', \n",
    "                   scoring_args=None, \n",
    "                   start_p=2, \n",
    "                   start_q=2, \n",
    "                   start_P=1, \n",
    "                   start_Q=1, \n",
    "                   start_order=None, \n",
    "                   seasonal_test='ocsb', \n",
    "                   stepwise=True, \n",
    "                   suppress_warnings=True, \n",
    "                   error_action='trace', \n",
    "                   trace=False, \n",
    "                   random=False, \n",
    "                   random_state=None, \n",
    "                   n_fits=10, \n",
    "                   return_valid_fits=False, \n",
    "                   out_of_sample_size=0, \n",
    "                   scoring='mse', \n",
    "                   scoring_args=None, \n",
    "                   with_intercept=True, \n",
    "                   sarimax_kwargs=None)\n",
    "model_fit = model.fit(train_data)\n",
    "predictions = model_fit.predict(n_periods=len(test_data))\n",
    "\n",
    "mide_error('ARIMA', predictions)\n",
    "plt.figure(figsize=(10, 6))\n",
    "plt.plot(df_st[-12:].index.strftime('%Y-%m'), df_st[-12:].infl, label='Reality')\n",
    "plt.plot(df_st[-4].index.strftime('%Y-%m'), predictions, label='Predictions')\n",
    "plt.xticks(rotation=45, fontsize=12);\n"
   ]
  },
  {
   "cell_type": "markdown",
   "metadata": {},
   "source": [
    "# **10 Suavizado exponencial**\n"
   ]
  },
  {
   "cell_type": "code",
   "execution_count": null,
   "metadata": {},
   "outputs": [],
   "source": [
    "from statsmodels.holtwinters import ExponentialSmoothing\n",
    "\n",
    "model = ExponentialSmoothing(train_data, trend='add', seasonal=None, seasonal_periods=4)\n",
    "model_fit = model.fit()\n",
    "predictions = model_fit.predict(start=len(train_data), end=len(train_data)+len(test_data)-1)\n",
    "\n",
    "plt.figure(figsize=(10, 6))\n",
    "plt.plot(df_st[-12:].index.strftime('%Y-%m'), df_st[-12:].infl, label='Reality')\n",
    "plt.plot(df_st[-4].index.strftime('%Y-%m'), predictions, label='Predictions')\n",
    "plt.xticks(rotation=45, fontsize=12);"
   ]
  },
  {
   "cell_type": "markdown",
   "metadata": {},
   "source": [
    "# **11 Random Forest**"
   ]
  },
  {
   "cell_type": "code",
   "execution_count": 152,
   "metadata": {},
   "outputs": [
    {
     "name": "stdout",
     "output_type": "stream",
     "text": [
      "Random Forest AUC: 0.6924\n"
     ]
    }
   ],
   "source": [
    "from sklearn.ensemble import RandomForestClassifier\n",
    "\n",
    "rf = RandomForestClassifier(n_estimators=100, max_depth=14, random_state=42)\n",
    "rf.fit(X_train, y_train)\n",
    "\n",
    "y_pred = rf.predict_proba(X_test)[:, 1]\n",
    "\n",
    "mide_error('Random Forest', y_pred)"
   ]
  },
  {
   "cell_type": "markdown",
   "metadata": {},
   "source": [
    "# **12 XGBOOST**"
   ]
  },
  {
   "cell_type": "code",
   "execution_count": null,
   "metadata": {},
   "outputs": [],
   "source": [
    "from xgboost import XGBClassifier\n",
    "\n",
    "xgb_classifier = XGBClassifier(n_estimators=100, max_depth=14, random_state=42)\n",
    "xgb_classifier.fit(X_train, y_train)\n",
    "\n",
    "y_pred = xgb_classifier.predict_proba(X_test)[:, 1]\n",
    "\n",
    "mide_error('XGBoost', y_pred)"
   ]
  },
  {
   "cell_type": "markdown",
   "metadata": {},
   "source": [
    "# **13 LIGHTGBM**"
   ]
  },
  {
   "cell_type": "code",
   "execution_count": 156,
   "metadata": {},
   "outputs": [
    {
     "name": "stdout",
     "output_type": "stream",
     "text": [
      "Hist Gradient Boosting AUC: 0.6822\n"
     ]
    }
   ],
   "source": [
    "from sklearn.ensemble import HistGradientBoostingClassifier\n",
    "\n",
    "hist_gradient_boosting = HistGradientBoostingClassifier(max_iter=100, max_depth=10, random_state=42)\n",
    "hist_gradient_boosting.fit(X_train, y_train)\n",
    "\n",
    "y_pred = hist_gradient_boosting.predict_proba(X_test)[:, 1]\n",
    "\n",
    "mide_error('Hist Gradient Boosting', y_pred)"
   ]
  },
  {
   "cell_type": "markdown",
   "metadata": {},
   "source": [
    "# **14 SVM**"
   ]
  },
  {
   "cell_type": "code",
   "execution_count": 174,
   "metadata": {},
   "outputs": [
    {
     "name": "stdout",
     "output_type": "stream",
     "text": [
      "SVC AUC: 0.7028\n"
     ]
    }
   ],
   "source": [
    "from sklearn.svm import SVC\n",
    "\n",
    "svc = SVC(probability=True, \n",
    "          random_state=42, \n",
    "          kernel='rbf', \n",
    "          C=2.0, \n",
    "          gamma='scale', \n",
    "          degree=3, \n",
    "          coef0=0.0, \n",
    "          shrinking=True, \n",
    "          tol=0.001, \n",
    "          cache_size=400, \n",
    "          class_weight=None)\n",
    "svc.fit(X_train, y_train)\n",
    "\n",
    "y_pred = svc.predict_proba(X_test)[:, 1]\n",
    "\n",
    "mide_error('SVC', y_pred)"
   ]
  }
 ],
 "metadata": {
  "kernelspec": {
   "display_name": "deep_learning",
   "language": "python",
   "name": "python3"
  },
  "language_info": {
   "codemirror_mode": {
    "name": "ipython",
    "version": 3
   },
   "file_extension": ".py",
   "mimetype": "text/x-python",
   "name": "python",
   "nbconvert_exporter": "python",
   "pygments_lexer": "ipython3",
   "version": "3.10.13"
  }
 },
 "nbformat": 4,
 "nbformat_minor": 2
}
